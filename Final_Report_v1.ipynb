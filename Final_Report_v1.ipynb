{
  "cells": [
    {
      "cell_type": "code",
      "execution_count": null,
      "metadata": {
        "id": "QoV5BjPPztNg"
      },
      "outputs": [],
      "source": [
        "!pip install qiskit[nature]"
      ]
    },
    {
      "cell_type": "code",
      "execution_count": null,
      "metadata": {
        "colab": {
          "base_uri": "https://localhost:8080/"
        },
        "id": "Jyz0KdFbzxXB",
        "outputId": "1bed8e27-448d-4210-9989-3405c3f8b661"
      },
      "outputs": [
        {
          "name": "stdout",
          "output_type": "stream",
          "text": [
            "\u001b[K     |████████████████████████████████| 37.5 MB 1.2 MB/s \n",
            "\u001b[?25h"
          ]
        }
      ],
      "source": [
        "!pip install pyscf --quiet"
      ]
    },
    {
      "cell_type": "code",
      "execution_count": null,
      "metadata": {
        "id": "P5bdIGQ0z-ro"
      },
      "outputs": [],
      "source": [
        "from qiskit import Aer\n",
        "from qiskit_nature.drivers import UnitsType, Molecule\n",
        "from qiskit_nature.drivers.second_quantization import ElectronicStructureDriverType, ElectronicStructureMoleculeDriver\n",
        "from qiskit_nature.problems.second_quantization import ElectronicStructureProblem\n",
        "from qiskit_nature.converters.second_quantization import QubitConverter\n",
        "from qiskit_nature.mappers.second_quantization import JordanWignerMapper"
      ]
    },
    {
      "cell_type": "code",
      "execution_count": null,
      "metadata": {
        "colab": {
          "base_uri": "https://localhost:8080/"
        },
        "id": "zikwSgyWro0b",
        "outputId": "e268723d-bdac-4a70-8b94-845bda7da601"
      },
      "outputs": [
        {
          "name": "stderr",
          "output_type": "stream",
          "text": [
            "/usr/local/lib/python3.7/dist-packages/ipykernel_launcher.py:5: DeprecationWarning: The qiskit.ignis package is deprecated and has been supersceded by the qiskit-experiments project. Refer to the migration guide: https://github.com/Qiskit/qiskit-ignis#migration-guide on how to migrate to the new project.\n",
            "  \"\"\"\n"
          ]
        }
      ],
      "source": [
        "import numpy as np\n",
        "from qiskit import IBMQ\n",
        "from qiskit.providers.aer.noise import NoiseModel\n",
        "from qiskit.utils import QuantumInstance\n",
        "from qiskit.ignis.mitigation.measurement import CompleteMeasFitter"
      ]
    },
    {
      "cell_type": "code",
      "execution_count": null,
      "metadata": {
        "id": "brbWFELE0rm_"
      },
      "outputs": [],
      "source": [
        "molecule = Molecule(geometry=[['H', [0., 0., 0.]],\n",
        "                              ['H', [0., 0., 0.735]]],\n",
        "                     charge=0, multiplicity=1)"
      ]
    },
    {
      "cell_type": "code",
      "execution_count": null,
      "metadata": {
        "id": "Dq6c_G7P2_PF"
      },
      "outputs": [],
      "source": [
        "driver = ElectronicStructureMoleculeDriver(molecule, basis='sto3g', driver_type=ElectronicStructureDriverType.PYSCF)\n",
        "\n",
        "es_problem = ElectronicStructureProblem(driver)\n",
        "qubit_converter = QubitConverter(JordanWignerMapper())"
      ]
    },
    {
      "cell_type": "code",
      "execution_count": null,
      "metadata": {
        "id": "d7Yo-JKf3PX5"
      },
      "outputs": [],
      "source": [
        "from qiskit.algorithms import NumPyMinimumEigensolver\n",
        "\n",
        "numpy_solver = NumPyMinimumEigensolver()"
      ]
    },
    {
      "cell_type": "code",
      "execution_count": null,
      "metadata": {
        "id": "QMBcZeSfeOGC"
      },
      "outputs": [],
      "source": [
        "#provider = IBMQ.get_provider('ibm-q')"
      ]
    },
    {
      "cell_type": "code",
      "execution_count": null,
      "metadata": {
        "id": "CtKqg5VPeZyz"
      },
      "outputs": [],
      "source": [
        "#qcomp = provider.get_backend('ibmq_manila')"
      ]
    },
    {
      "cell_type": "code",
      "execution_count": null,
      "metadata": {
        "id": "XpjQ4XFteZvb"
      },
      "outputs": [],
      "source": [
        ""
      ]
    },
    {
      "cell_type": "code",
      "execution_count": null,
      "metadata": {
        "id": "6bxmH5t43VV3"
      },
      "outputs": [],
      "source": [
        "from qiskit.providers.aer import StatevectorSimulator\n",
        "from qiskit import Aer\n",
        "from qiskit.utils import QuantumInstance\n",
        "from qiskit_nature.algorithms import VQEUCCFactory\n",
        "\n",
        "#quantum_instance = QuantumInstance(backend = qcomp)\n",
        "vqe_solver = VQEUCCFactory(quantum_instance)"
      ]
    },
    {
      "cell_type": "code",
      "execution_count": null,
      "metadata": {
        "id": "ScD7ayyW3cin"
      },
      "outputs": [],
      "source": [
        "from qiskit.algorithms import VQE\n",
        "from qiskit.circuit.library import TwoLocal\n",
        "\n",
        "tl_circuit = TwoLocal(rotation_blocks = ['h', 'rx'], entanglement_blocks = 'cz',\n",
        "                      entanglement='full', reps=2, parameter_prefix = 'y')\n",
        "\n",
        "another_solver = VQE(ansatz = tl_circuit,\n",
        "                     quantum_instance = QuantumInstance(Aer.get_backend(\"qasm_simulator\")))"
      ]
    },
    {
      "cell_type": "code",
      "execution_count": null,
      "metadata": {
        "colab": {
          "base_uri": "https://localhost:8080/"
        },
        "id": "VGMBN8yV36WA",
        "outputId": "75db01de-4587-48df-800f-79bc4b35f803"
      },
      "outputs": [
        {
          "name": "stdout",
          "output_type": "stream",
          "text": [
            "=== GROUND STATE ENERGY ===\n",
            " \n",
            "* Electronic ground state energy (Hartree): -0.86399467856\n",
            "  - computed part:      -0.86399467856\n",
            "~ Nuclear repulsion energy (Hartree): 0.719968994449\n",
            "> Total ground state energy (Hartree): -0.144025684111\n",
            " \n",
            "=== MEASURED OBSERVABLES ===\n",
            " \n",
            "  0:  # Particles: 1.990 S: 0.298 S^2: 0.386 M: -0.002\n",
            " \n",
            "=== DIPOLE MOMENTS ===\n",
            " \n",
            "~ Nuclear dipole moment (a.u.): [0.0  0.0  1.3889487]\n",
            " \n",
            "  0: \n",
            "  * Electronic dipole moment (a.u.): [0.0  0.0  0.06034012]\n",
            "    - computed part:      [0.0  0.0  0.06034012]\n",
            "  > Dipole moment (a.u.): [0.0  0.0  1.32860858]  Total: 1.32860858\n",
            "                 (debye): [0.0  0.0  3.37698584]  Total: 3.37698584\n",
            " \n"
          ]
        }
      ],
      "source": [
        "from qiskit_nature.algorithms import GroundStateEigensolver\n",
        "\n",
        "calc = GroundStateEigensolver(qubit_converter, vqe_solver)\n",
        "res = calc.solve(es_problem)\n",
        "\n",
        "print(res)"
      ]
    },
    {
      "cell_type": "code",
      "execution_count": null,
      "metadata": {
        "colab": {
          "base_uri": "https://localhost:8080/"
        },
        "id": "W9MVKYxs7sbe",
        "outputId": "8a4fcb83-3763-4dea-e091-d9a5bf27aafc"
      },
      "outputs": [
        {
          "data": {
            "text/plain": [
              "array([-1.13730604])"
            ]
          },
          "execution_count": 21,
          "metadata": {},
          "output_type": "execute_result"
        }
      ],
      "source": [
        "res.total_energies"
      ]
    },
    {
      "cell_type": "code",
      "execution_count": null,
      "metadata": {
        "colab": {
          "base_uri": "https://localhost:8080/"
        },
        "id": "yVeaNwZ-DIqm",
        "outputId": "be834112-465b-4c1e-d61c-9daa7f4aad90"
      },
      "outputs": [
        {
          "name": "stdout",
          "output_type": "stream",
          "text": [
            "=== GROUND STATE ENERGY ===\n",
            " \n",
            "* Electronic ground state energy (Hartree): -1.857275030202\n",
            "  - computed part:      -1.857275030202\n",
            "~ Nuclear repulsion energy (Hartree): 0.719968994449\n",
            "> Total ground state energy (Hartree): -1.137306035753\n",
            " \n",
            "=== MEASURED OBSERVABLES ===\n",
            " \n",
            "  0:  # Particles: 2.000 S: 0.000 S^2: 0.000 M: 0.000\n",
            " \n",
            "=== DIPOLE MOMENTS ===\n",
            " \n",
            "~ Nuclear dipole moment (a.u.): [0.0  0.0  1.3889487]\n",
            " \n",
            "  0: \n",
            "  * Electronic dipole moment (a.u.): [0.0  0.0  1.3889487]\n",
            "    - computed part:      [0.0  0.0  1.3889487]\n",
            "  > Dipole moment (a.u.): [0.0  0.0  0.0]  Total: 0.0\n",
            "                 (debye): [0.0  0.0  0.0]  Total: 0.0\n",
            " \n"
          ]
        }
      ],
      "source": [
        "calc = GroundStateEigensolver(qubit_converter, numpy_solver)\n",
        "res = calc.solve(es_problem)\n",
        "print(res)\n"
      ]
    },
    {
      "cell_type": "code",
      "execution_count": null,
      "metadata": {
        "colab": {
          "base_uri": "https://localhost:8080/"
        },
        "id": "QXHSR7ROq1Mu",
        "outputId": "1caf4877-8227-4aec-d381-5389b7e1ffdc"
      },
      "outputs": [
        {
          "data": {
            "text/plain": [
              "array([0.5, 0.6, 0.7, 0.8, 0.9, 1. , 1.1, 1.2, 1.3, 1.4, 1.5, 1.6, 1.7,\n",
              "       1.8, 1.9])"
            ]
          },
          "execution_count": 31,
          "metadata": {},
          "output_type": "execute_result"
        }
      ],
      "source": [
        "np.arange(0.5,2,0.1)"
      ]
    },
    {
      "cell_type": "code",
      "execution_count": null,
      "metadata": {
        "colab": {
          "background_save": true
        },
        "id": "cxdF58LOrZxo"
      },
      "outputs": [],
      "source": [
        "from qiskit.algorithms import VQE\n",
        "from qiskit.circuit.library import TwoLocal\n",
        "VQEi = np.array([])\n",
        "NpE = np.array([])\n",
        "#Initiating solvers\n",
        "numpy_solver = NumPyMinimumEigensolver()\n",
        "provider = IBMQ.get_provider(hub='ibm-q')\n",
        "backend = Aer.get_backend(\"qasm_simulator\")\n",
        "device = provider.get_backend(\"ibmq_lima\")\n",
        "coupling_map = device.configuration().coupling_map\n",
        "noise_model = NoiseModel.from_backend(device.properties())\n",
        "#quantum_instance = QuantumInstance(backend=backend, \n",
        "#                                   shots=8192, \n",
        "#                                   noise_model=noise_model, \n",
        "#                                   coupling_map=coupling_map,\n",
        "#                                   measurement_error_mitigation_cls=CompleteMeasFitter,\n",
        "#                                   cals_matrix_refresh_period=30)\n",
        "\n",
        "#noise_model = NoiseModel.from_backend(device.properties())\n",
        "quantum_instance2 = QuantumInstance(backend=backend, \n",
        "                                   shots=1024, \n",
        "                                   noise_model=noise_model, \n",
        "                                   coupling_map=coupling_map,\n",
        "                                   measurement_error_mitigation_cls=CompleteMeasFitter,\n",
        "                                   cals_matrix_refresh_period=30)\n",
        "\n",
        "\n",
        "vqe_solver = VQEUCCFactory(quantum_instance2) #Kept it out of the loop\n",
        "#Quantum Circuits\n",
        "tl_circuit = TwoLocal(rotation_blocks = ['h', 'rx'], entanglement_blocks = 'cz',\n",
        "                      entanglement='full', reps=3, parameter_prefix = 'y')\n",
        "\n",
        "another_solver = VQE(ansatz = tl_circuit,\n",
        "                     quantum_instance = quantum_instance2)\n",
        "\n",
        "qubit_converter = QubitConverter(JordanWignerMapper())\n",
        "\n",
        "drange = np.arange(0.5,2,0.1)\n",
        "for d in drange:\n",
        "  molecule = Molecule(geometry=[['H', [0., 0., 0.]],\n",
        "                              ['H', [0., 0., d]]],\n",
        "                     charge=0, multiplicity=1)\n",
        "  driver = ElectronicStructureMoleculeDriver(molecule, basis='sto3g', driver_type=ElectronicStructureDriverType.PYSCF)\n",
        "\n",
        "  es_problem = ElectronicStructureProblem(driver)\n",
        "  calcVQE = GroundStateEigensolver(qubit_converter, another_solver)\n",
        "  calcNpE = GroundStateEigensolver(qubit_converter, numpy_solver)\n",
        "  resVQE = calcVQE.solve(es_problem)\n",
        "  resNpE = calcNpE.solve(es_problem)\n",
        "  VQEi = np.append(VQEi,resVQE.total_energies)\n",
        "  NpE = np.append(NpE,resNpE.total_energies)"
      ]
    },
    {
      "cell_type": "code",
      "execution_count": null,
      "metadata": {
        "id": "55V3unlZvTwV"
      },
      "outputs": [],
      "source": [
        "import matplotlib.pyplot as plt"
      ]
    },
    {
      "cell_type": "code",
      "execution_count": null,
      "metadata": {
        "colab": {
          "base_uri": "https://localhost:8080/"
        },
        "id": "rdamfFsOMFxZ",
        "outputId": "c3fddd86-eb1e-4955-ab41-90d1044dd2d1"
      },
      "outputs": [
        {
          "name": "stdout",
          "output_type": "stream",
          "text": [
            "     »\n",
            "q_0: »\n",
            "     »\n",
            "q_1: »\n",
            "     »\n",
            "q_2: »\n",
            "     »\n",
            "q_3: »\n",
            "     »\n",
            "«     ┌──────────────────────────────────────────────────────────────────────────┐\n",
            "«q_0: ┤0                                                                         ├\n",
            "«     │                                                                          │\n",
            "«q_1: ┤1                                                                         ├\n",
            "«     │  TwoLocal(y[0],y[1],y[2],y[3],y[4],y[5],y[6],y[7],y[8],y[9],y[10],y[11]) │\n",
            "«q_2: ┤2                                                                         ├\n",
            "«     │                                                                          │\n",
            "«q_3: ┤3                                                                         ├\n",
            "«     └──────────────────────────────────────────────────────────────────────────┘\n"
          ]
        }
      ],
      "source": [
        "print(tl_circuit)"
      ]
    },
    {
      "cell_type": "code",
      "execution_count": null,
      "metadata": {
        "colab": {
          "base_uri": "https://localhost:8080/",
          "height": 313
        },
        "id": "o6cMS2VAzMmU",
        "outputId": "3ae6da5c-d93e-46ac-b0e8-43cd7980eb5b"
      },
      "outputs": [
        {
          "data": {
            "text/plain": [
              "Text(0.5, 1.0, 'Ground state energy of H_2 molecule as a function of interatomic seperation')"
            ]
          },
          "execution_count": 40,
          "metadata": {},
          "output_type": "execute_result"
        },
        {
          "data": {
            "image/png": "[encoded data removed]",
            "text/plain": [
              "<Figure size 432x288 with 1 Axes>"
            ]
          },
          "metadata": {},
          "output_type": "display_data"
        }
      ],
      "source": [
        "plt.plot(drange, VQEi,'b*', label='VQE')\n",
        "plt.plot(drange, NpE,'g-', label='Numpy Solver')\n",
        "plt.legend()\n",
        "plt.xlabel(\"distance (Amstrung)\")\n",
        "plt.ylabel(\"Ground state Energy\")\n",
        "plt.title(\"Ground state energy of H_2 molecule as a function of interatomic seperation\")"
      ]
    },
    {
      "cell_type": "code",
      "execution_count": null,
      "metadata": {
        "colab": {
          "base_uri": "https://localhost:8080/"
        },
        "id": "Ir5-uTUAw_bA",
        "outputId": "e2dbcdfa-b83c-44bb-9d2f-1ff44bd6f165"
      },
      "outputs": [
        {
          "data": {
            "text/plain": [
              "0.10559789675735108"
            ]
          },
          "execution_count": 41,
          "metadata": {},
          "output_type": "execute_result"
        }
      ],
      "source": [
        "from scipy.stats import sem\n",
        "sem(VQEi-NpE)"
      ]
    },
    {
      "cell_type": "code",
      "execution_count": null,
      "metadata": {
        "id": "QY2kCk3DxIuN"
      },
      "outputs": [],
      "source": [
        ""
      ]
    },
    {
      "cell_type": "code",
      "execution_count": null,
      "metadata": {
        "id": "-ZM7xxsmz2ku"
      },
      "outputs": [],
      "source": [
        "molecule = Molecule(geometry=[['H', [0., 0., 0.]],\n",
        "                              ['H', [0., 0., 0.735]]],\n",
        "                     charge=0, multiplicity=1)"
      ]
    },
    {
      "cell_type": "code",
      "execution_count": null,
      "metadata": {
        "id": "lwIB4m_e8JOx"
      },
      "outputs": [],
      "source": [
        "driver = ElectronicStructureMoleculeDriver(molecule, basis='sto3g', driver_type=ElectronicStructureDriverType.PYSCF)"
      ]
    },
    {
      "cell_type": "code",
      "execution_count": null,
      "metadata": {
        "id": "rK1eGMpu8SFz"
      },
      "outputs": [],
      "source": [
        "m = driver.run()"
      ]
    },
    {
      "cell_type": "code",
      "execution_count": null,
      "metadata": {
        "colab": {
          "base_uri": "https://localhost:8080/",
          "height": 183
        },
        "id": "8cBTyvwY8pcQ",
        "outputId": "ebf278bc-0df2-47af-fd1f-9bbf04e73f26"
      },
      "outputs": [
        {
          "ename": "AttributeError",
          "evalue": "ignored",
          "output_type": "error",
          "traceback": [
            "\u001b[0;31m---------------------------------------------------------------------------\u001b[0m",
            "\u001b[0;31mAttributeError\u001b[0m                            Traceback (most recent call last)",
            "\u001b[0;32m<ipython-input-71-524fd1fd6fda>\u001b[0m in \u001b[0;36m<module>\u001b[0;34m()\u001b[0m\n\u001b[0;32m----> 1\u001b[0;31m \u001b[0mh1\u001b[0m \u001b[0;34m=\u001b[0m \u001b[0mm\u001b[0m\u001b[0;34m.\u001b[0m\u001b[0mone_body_integrals\u001b[0m\u001b[0;34m\u001b[0m\u001b[0;34m\u001b[0m\u001b[0m\n\u001b[0m\u001b[1;32m      2\u001b[0m \u001b[0mprint\u001b[0m\u001b[0;34m(\u001b[0m\u001b[0mh1\u001b[0m\u001b[0;34m)\u001b[0m\u001b[0;34m\u001b[0m\u001b[0;34m\u001b[0m\u001b[0m\n",
            "\u001b[0;31mAttributeError\u001b[0m: 'ElectronicStructureDriverResult' object has no attribute 'one_body_integrals'"
          ]
        }
      ],
      "source": [
        "h1 = m.one_body_integrals\n",
        "print(h1)"
      ]
    },
    {
      "cell_type": "code",
      "execution_count": null,
      "metadata": {
        "colab": {
          "base_uri": "https://localhost:8080/"
        },
        "id": "Otwmmccd853A",
        "outputId": "41be24c3-11f6-4463-c656-42f5f43ad67c"
      },
      "outputs": [
        {
          "data": {
            "text/plain": [
              "{'_name': 'ElectronicStructureDriverResult',\n",
              " '_properties': {'AngularMomentum': <qiskit_nature.properties.second_quantization.electronic.angular_momentum.AngularMomentum at 0x7f5355089e10>,\n",
              "  'DriverMetadata': <qiskit_nature.properties.second_quantization.driver_metadata.DriverMetadata at 0x7f5355089d10>,\n",
              "  'ElectronicBasisTransform': <qiskit_nature.properties.second_quantization.electronic.bases.electronic_basis_transform.ElectronicBasisTransform at 0x7f535515e610>,\n",
              "  'ElectronicDipoleMoment': <qiskit_nature.properties.second_quantization.electronic.dipole_moment.ElectronicDipoleMoment at 0x7f5355089a50>,\n",
              "  'ElectronicEnergy': <qiskit_nature.properties.second_quantization.electronic.electronic_energy.ElectronicEnergy at 0x7f5355089dd0>,\n",
              "  'Magnetization': <qiskit_nature.properties.second_quantization.electronic.magnetization.Magnetization at 0x7f5355089fd0>,\n",
              "  'ParticleNumber': <qiskit_nature.properties.second_quantization.electronic.particle_number.ParticleNumber at 0x7f535c6f2650>},\n",
              " 'molecule': <qiskit_nature.drivers.molecule.Molecule at 0x7f535ab55c50>}"
            ]
          },
          "execution_count": 78,
          "metadata": {},
          "output_type": "execute_result"
        }
      ],
      "source": [
        "m.__dict__"
      ]
    },
    {
      "cell_type": "code",
      "execution_count": null,
      "metadata": {
        "colab": {
          "base_uri": "https://localhost:8080/",
          "height": 166
        },
        "id": "U8nZxvCc9Lnv",
        "outputId": "1f2b5b74-9cd1-4a67-8f18-895ed31206e4"
      },
      "outputs": [
        {
          "ename": "AttributeError",
          "evalue": "ignored",
          "output_type": "error",
          "traceback": [
            "\u001b[0;31m---------------------------------------------------------------------------\u001b[0m",
            "\u001b[0;31mAttributeError\u001b[0m                            Traceback (most recent call last)",
            "\u001b[0;32m<ipython-input-83-cb3f11c897eb>\u001b[0m in \u001b[0;36m<module>\u001b[0;34m()\u001b[0m\n\u001b[0;32m----> 1\u001b[0;31m \u001b[0mm\u001b[0m\u001b[0;34m.\u001b[0m\u001b[0mElectronicEnergy\u001b[0m\u001b[0;34m\u001b[0m\u001b[0;34m\u001b[0m\u001b[0m\n\u001b[0m",
            "\u001b[0;31mAttributeError\u001b[0m: 'ElectronicStructureDriverResult' object has no attribute 'ElectronicEnergy'"
          ]
        }
      ],
      "source": [
        "m.ElectronicEnergy"
      ]
    },
    {
      "cell_type": "code",
      "execution_count": null,
      "metadata": {
        "id": "RmrDuCEs9kFB"
      },
      "outputs": [],
      "source": [
        "es_problem = ElectronicStructureProblem(driver)"
      ]
    },
    {
      "cell_type": "code",
      "execution_count": null,
      "metadata": {
        "colab": {
          "base_uri": "https://localhost:8080/"
        },
        "id": "nSyqi80D95BI",
        "outputId": "f3521ca8-8625-48a4-e970-2c2dbaa70198"
      },
      "outputs": [
        {
          "data": {
            "text/plain": [
              "{'_grouped_property': None,\n",
              " '_grouped_property_transformed': None,\n",
              " '_legacy_driver': False,\n",
              " '_legacy_transform': False,\n",
              " '_main_property_name': 'ElectronicEnergy',\n",
              " '_molecule_data': None,\n",
              " '_molecule_data_transformed': None,\n",
              " 'driver': <qiskit_nature.drivers.second_quantization.electronic_structure_molecule_driver.ElectronicStructureMoleculeDriver at 0x7f53540f8550>,\n",
              " 'transformers': []}"
            ]
          },
          "execution_count": 86,
          "metadata": {},
          "output_type": "execute_result"
        }
      ],
      "source": [
        "es_problem.__dict__"
      ]
    },
    {
      "cell_type": "code",
      "execution_count": null,
      "metadata": {
        "id": "EACX3oOB96Ir"
      },
      "outputs": [],
      "source": [
        "from qiskit import IBMQ"
      ]
    },
    {
      "cell_type": "code",
      "execution_count": null,
      "metadata": {
        "id": "CMDIpLTVGCT8"
      },
      "outputs": [],
      "source": [
        "IBMQ.save_account('b8f1801d1cb9030d6b4112a435af1e9e1f85f3ed08fead8ed12c495899ed95e2525893a574abb907f6585bd7c98d33160a574cfdb62ec8951dbf26d0750cf73d')"
      ]
    },
    {
      "cell_type": "code",
      "execution_count": null,
      "metadata": {
        "colab": {
          "base_uri": "https://localhost:8080/"
        },
        "id": "grb7ekp3MO_q",
        "outputId": "e3f7701e-baf5-4d36-c09f-ee0e6bf8931e"
      },
      "outputs": [
        {
          "data": {
            "text/plain": [
              "<AccountProvider for IBMQ(hub='ibm-q', group='open', project='main')>"
            ]
          },
          "execution_count": 7,
          "metadata": {},
          "output_type": "execute_result"
        }
      ],
      "source": [
        "IBMQ.load_account()"
      ]
    },
    {
      "cell_type": "code",
      "execution_count": null,
      "metadata": {
        "id": "7WxCjpsoMu8m"
      },
      "outputs": [],
      "source": [
        ""
      ]
    }
  ],
  "metadata": {
    "colab": {
      "name": "Final Report v1.ipynb",
      "provenance": [],
      "collapsed_sections": []
    },
    "kernelspec": {
      "display_name": "Python 3",
      "name": "python3"
    },
    "language_info": {
      "name": "python"
    }
  },
  "nbformat": 4,
  "nbformat_minor": 0
}